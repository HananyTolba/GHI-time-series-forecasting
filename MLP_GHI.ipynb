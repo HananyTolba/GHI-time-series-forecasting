{
 "cells": [
  {
   "cell_type": "code",
   "execution_count": 1,
   "metadata": {},
   "outputs": [],
   "source": [
    "from __future__ import print_function\n",
    "import os\n",
    "import sys\n",
    "import pandas as pd\n",
    "import numpy as np\n",
    "%matplotlib inline\n",
    "from matplotlib import pyplot as plt\n",
    "import seaborn as sns\n",
    "import datetime as datetime"
   ]
  },
  {
   "cell_type": "code",
   "execution_count": 2,
   "metadata": {},
   "outputs": [],
   "source": [
    "\n",
    "#set current working directory\n",
    "os.chdir('/Users/hanany/Downloads/Practical-Time-Series-Analysis-master')\n",
    "#Read the dataset into a pandas.DataFrame\n",
    "df = pd.read_csv('/Users/hanany/Desktop/lstm-GHI/data/dataGHIDNI_1ans_10m.txt',sep=',', engine='python')\n",
    "\n"
   ]
  },
  {
   "cell_type": "code",
   "execution_count": 3,
   "metadata": {},
   "outputs": [
    {
     "name": "stdout",
     "output_type": "stream",
     "text": [
      "Shape of the dataframe: (27161, 3)\n"
     ]
    }
   ],
   "source": [
    "print('Shape of the dataframe:', df.shape)"
   ]
  },
  {
   "cell_type": "code",
   "execution_count": 4,
   "metadata": {},
   "outputs": [
    {
     "name": "stdout",
     "output_type": "stream",
     "text": [
      "               DateTime        GHI       DNI\n",
      "0  01-Jan-2016 08:01:00   1.521155  0.000000\n",
      "1  01-Jan-2016 08:11:00   3.823183  0.000000\n",
      "2  01-Jan-2016 08:21:00   7.175554  0.000000\n",
      "3  01-Jan-2016 08:31:00  20.453589  1.549654\n",
      "4  01-Jan-2016 08:41:00  19.065202  1.119731\n",
      "<class 'pandas.core.frame.DataFrame'>\n",
      "RangeIndex: 27161 entries, 0 to 27160\n",
      "Data columns (total 3 columns):\n",
      "DateTime    27161 non-null object\n",
      "GHI         27161 non-null float64\n",
      "DNI         27161 non-null float64\n",
      "dtypes: float64(2), object(1)\n",
      "memory usage: 636.7+ KB\n",
      "None\n"
     ]
    }
   ],
   "source": [
    "print(df.head())\n",
    "print(df.info())"
   ]
  },
  {
   "cell_type": "code",
   "execution_count": 6,
   "metadata": {},
   "outputs": [
    {
     "name": "stdout",
     "output_type": "stream",
     "text": [
      "             DateTime        GHI       DNI\n",
      "0 2016-01-01 08:01:00   1.521155  0.000000\n",
      "1 2016-01-01 08:11:00   3.823183  0.000000\n",
      "2 2016-01-01 08:21:00   7.175554  0.000000\n",
      "3 2016-01-01 08:31:00  20.453589  1.549654\n",
      "4 2016-01-01 08:41:00  19.065202  1.119731\n",
      "<class 'pandas.core.frame.DataFrame'>\n",
      "RangeIndex: 27161 entries, 0 to 27160\n",
      "Data columns (total 3 columns):\n",
      "DateTime    27161 non-null datetime64[ns]\n",
      "GHI         27161 non-null float64\n",
      "DNI         27161 non-null float64\n",
      "dtypes: datetime64[ns](1), float64(2)\n",
      "memory usage: 636.7 KB\n",
      "None\n"
     ]
    }
   ],
   "source": [
    "df['DateTime']=pd.to_datetime(df['DateTime'])\n",
    "\n",
    "print(df.head())\n",
    "print(df.info())"
   ]
  },
  {
   "cell_type": "code",
   "execution_count": null,
   "metadata": {},
   "outputs": [],
   "source": []
  },
  {
   "cell_type": "code",
   "execution_count": null,
   "metadata": {},
   "outputs": [],
   "source": []
  },
  {
   "cell_type": "code",
   "execution_count": 7,
   "metadata": {},
   "outputs": [
    {
     "data": {
      "text/plain": [
       "Text(0.5,1,'Box plot of GHI')"
      ]
     },
     "execution_count": 7,
     "metadata": {},
     "output_type": "execute_result"
    },
    {
     "data": {
      "image/png": "[encoded data removed]",
      "text/plain": [
       "<Figure size 396x396 with 1 Axes>"
      ]
     },
     "metadata": {
      "needs_background": "light"
     },
     "output_type": "display_data"
    }
   ],
   "source": [
    "plt.figure(figsize=(5.5, 5.5))\n",
    "g = sns.boxplot(df['GHI'])\n",
    "g.set_title('Box plot of GHI')"
   ]
  },
  {
   "cell_type": "code",
   "execution_count": 8,
   "metadata": {},
   "outputs": [],
   "source": [
    "from sklearn.preprocessing import MinMaxScaler\n",
    "scaler = MinMaxScaler(feature_range=(0, 1))\n",
    "df['scaled_GHI'] = scaler.fit_transform(np.array(df['GHI']).reshape(-1, 1))"
   ]
  },
  {
   "cell_type": "code",
   "execution_count": 9,
   "metadata": {},
   "outputs": [
    {
     "name": "stdout",
     "output_type": "stream",
     "text": [
      "Shape of train: (18197, 4)\n",
      "Shape of test: (8963, 4)\n"
     ]
    }
   ],
   "source": [
    "# split into train and test sets\n",
    "train_size = int(len(df.GHI) * 0.67)\n",
    "df_train, df_val = df[:train_size], df[train_size+1:]\n",
    "\n",
    "\n",
    "\n",
    "print('Shape of train:', df_train.shape)\n",
    "print('Shape of test:', df_val.shape)"
   ]
  },
  {
   "cell_type": "code",
   "execution_count": 10,
   "metadata": {},
   "outputs": [
    {
     "data": {
      "text/html": [
       "<div>\n",
       "<style scoped>\n",
       "    .dataframe tbody tr th:only-of-type {\n",
       "        vertical-align: middle;\n",
       "    }\n",
       "\n",
       "    .dataframe tbody tr th {\n",
       "        vertical-align: top;\n",
       "    }\n",
       "\n",
       "    .dataframe thead th {\n",
       "        text-align: right;\n",
       "    }\n",
       "</style>\n",
       "<table border=\"1\" class=\"dataframe\">\n",
       "  <thead>\n",
       "    <tr style=\"text-align: right;\">\n",
       "      <th></th>\n",
       "      <th>DateTime</th>\n",
       "      <th>GHI</th>\n",
       "      <th>DNI</th>\n",
       "      <th>scaled_GHI</th>\n",
       "    </tr>\n",
       "  </thead>\n",
       "  <tbody>\n",
       "    <tr>\n",
       "      <th>0</th>\n",
       "      <td>2016-01-01 08:01:00</td>\n",
       "      <td>1.521155</td>\n",
       "      <td>0.000000</td>\n",
       "      <td>0.001054</td>\n",
       "    </tr>\n",
       "    <tr>\n",
       "      <th>1</th>\n",
       "      <td>2016-01-01 08:11:00</td>\n",
       "      <td>3.823183</td>\n",
       "      <td>0.000000</td>\n",
       "      <td>0.002905</td>\n",
       "    </tr>\n",
       "    <tr>\n",
       "      <th>2</th>\n",
       "      <td>2016-01-01 08:21:00</td>\n",
       "      <td>7.175554</td>\n",
       "      <td>0.000000</td>\n",
       "      <td>0.005601</td>\n",
       "    </tr>\n",
       "    <tr>\n",
       "      <th>3</th>\n",
       "      <td>2016-01-01 08:31:00</td>\n",
       "      <td>20.453589</td>\n",
       "      <td>1.549654</td>\n",
       "      <td>0.016281</td>\n",
       "    </tr>\n",
       "    <tr>\n",
       "      <th>4</th>\n",
       "      <td>2016-01-01 08:41:00</td>\n",
       "      <td>19.065202</td>\n",
       "      <td>1.119731</td>\n",
       "      <td>0.015164</td>\n",
       "    </tr>\n",
       "  </tbody>\n",
       "</table>\n",
       "</div>"
      ],
      "text/plain": [
       "             DateTime        GHI       DNI  scaled_GHI\n",
       "0 2016-01-01 08:01:00   1.521155  0.000000    0.001054\n",
       "1 2016-01-01 08:11:00   3.823183  0.000000    0.002905\n",
       "2 2016-01-01 08:21:00   7.175554  0.000000    0.005601\n",
       "3 2016-01-01 08:31:00  20.453589  1.549654    0.016281\n",
       "4 2016-01-01 08:41:00  19.065202  1.119731    0.015164"
      ]
     },
     "execution_count": 10,
     "metadata": {},
     "output_type": "execute_result"
    }
   ],
   "source": [
    "df_train.head()"
   ]
  },
  {
   "cell_type": "code",
   "execution_count": 11,
   "metadata": {},
   "outputs": [
    {
     "data": {
      "text/html": [
       "<div>\n",
       "<style scoped>\n",
       "    .dataframe tbody tr th:only-of-type {\n",
       "        vertical-align: middle;\n",
       "    }\n",
       "\n",
       "    .dataframe tbody tr th {\n",
       "        vertical-align: top;\n",
       "    }\n",
       "\n",
       "    .dataframe thead th {\n",
       "        text-align: right;\n",
       "    }\n",
       "</style>\n",
       "<table border=\"1\" class=\"dataframe\">\n",
       "  <thead>\n",
       "    <tr style=\"text-align: right;\">\n",
       "      <th></th>\n",
       "      <th>DateTime</th>\n",
       "      <th>GHI</th>\n",
       "      <th>DNI</th>\n",
       "      <th>scaled_GHI</th>\n",
       "    </tr>\n",
       "  </thead>\n",
       "  <tbody>\n",
       "    <tr>\n",
       "      <th>18198</th>\n",
       "      <td>2016-08-21 17:51:00</td>\n",
       "      <td>263.93287</td>\n",
       "      <td>689.95589</td>\n",
       "      <td>0.212114</td>\n",
       "    </tr>\n",
       "    <tr>\n",
       "      <th>18199</th>\n",
       "      <td>2016-08-21 18:01:00</td>\n",
       "      <td>233.07995</td>\n",
       "      <td>662.62451</td>\n",
       "      <td>0.187299</td>\n",
       "    </tr>\n",
       "    <tr>\n",
       "      <th>18200</th>\n",
       "      <td>2016-08-21 18:11:00</td>\n",
       "      <td>203.41456</td>\n",
       "      <td>636.21559</td>\n",
       "      <td>0.163439</td>\n",
       "    </tr>\n",
       "    <tr>\n",
       "      <th>18201</th>\n",
       "      <td>2016-08-21 18:21:00</td>\n",
       "      <td>174.62147</td>\n",
       "      <td>608.35700</td>\n",
       "      <td>0.140280</td>\n",
       "    </tr>\n",
       "    <tr>\n",
       "      <th>18202</th>\n",
       "      <td>2016-08-21 18:31:00</td>\n",
       "      <td>146.11541</td>\n",
       "      <td>572.09196</td>\n",
       "      <td>0.117352</td>\n",
       "    </tr>\n",
       "  </tbody>\n",
       "</table>\n",
       "</div>"
      ],
      "text/plain": [
       "                 DateTime        GHI        DNI  scaled_GHI\n",
       "18198 2016-08-21 17:51:00  263.93287  689.95589    0.212114\n",
       "18199 2016-08-21 18:01:00  233.07995  662.62451    0.187299\n",
       "18200 2016-08-21 18:11:00  203.41456  636.21559    0.163439\n",
       "18201 2016-08-21 18:21:00  174.62147  608.35700    0.140280\n",
       "18202 2016-08-21 18:31:00  146.11541  572.09196    0.117352"
      ]
     },
     "execution_count": 11,
     "metadata": {},
     "output_type": "execute_result"
    }
   ],
   "source": [
    "df_val.head()"
   ]
  },
  {
   "cell_type": "code",
   "execution_count": 12,
   "metadata": {},
   "outputs": [],
   "source": [
    "df_val.reset_index(drop=True, inplace=True)"
   ]
  },
  {
   "cell_type": "code",
   "execution_count": 13,
   "metadata": {},
   "outputs": [
    {
     "data": {
      "image/png": "[encoded data removed]",
      "text/plain": [
       "<Figure size 396x396 with 1 Axes>"
      ]
     },
     "metadata": {
      "needs_background": "light"
     },
     "output_type": "display_data"
    },
    {
     "data": {
      "image/png": "[encoded data removed]",
      "text/plain": [
       "<Figure size 396x396 with 1 Axes>"
      ]
     },
     "metadata": {
      "needs_background": "light"
     },
     "output_type": "display_data"
    }
   ],
   "source": [
    "\"\"\"\n",
    "The train and validation time series of standardized PRES are also plotted.\n",
    "\"\"\"\n",
    "\n",
    "plt.figure(figsize=(5.5, 5.5))\n",
    "g = plt.plot(df_train['scaled_GHI'], color='b')\n",
    "#g.set_title('Time series of scaled Air Pressure in train set')\n",
    "#g.set_xlabel('Index')\n",
    "#g.set_ylabel('Scaled Air Pressure readings')\n",
    "#plt.savefig('plots/ch5/B07887_05_03.png', format='png', dpi=300)\n",
    "\n",
    "plt.figure(figsize=(5.5, 5.5))\n",
    "g = plt.plot(df_val['scaled_GHI'], color='r')\n",
    "#g.set_title('Time series of scaled Air Pressure in validation set')\n",
    "#g.set_xlabel('Index')\n",
    "#g.set_ylabel('Scaled Air Pressure readings')\n",
    "#plt.savefig('plots/ch5/B07887_05_04.png', format='png', dpi=300)"
   ]
  },
  {
   "cell_type": "code",
   "execution_count": 14,
   "metadata": {},
   "outputs": [],
   "source": [
    "def makeXy(ts, nb_timesteps):\n",
    "    \"\"\"\n",
    "    Input: \n",
    "           ts: original time series\n",
    "           nb_timesteps: number of time steps in the regressors\n",
    "    Output: \n",
    "           X: 2-D array of regressors\n",
    "           y: 1-D array of target \n",
    "    \"\"\"\n",
    "    X = []\n",
    "    y = []\n",
    "    for i in range(nb_timesteps, ts.shape[0]):\n",
    "        X.append(list(ts.loc[i-nb_timesteps:i-1]))\n",
    "        y.append(ts.loc[i])\n",
    "    X, y = np.array(X), np.array(y)\n",
    "    return X, y"
   ]
  },
  {
   "cell_type": "code",
   "execution_count": 15,
   "metadata": {},
   "outputs": [
    {
     "name": "stdout",
     "output_type": "stream",
     "text": [
      "Shape of train arrays: (18187, 10) (18187,)\n"
     ]
    }
   ],
   "source": [
    "dimInput=10\n",
    "X_train, y_train = makeXy(df_train['scaled_GHI'], dimInput)\n",
    "print('Shape of train arrays:', X_train.shape, y_train.shape)"
   ]
  },
  {
   "cell_type": "code",
   "execution_count": 16,
   "metadata": {},
   "outputs": [
    {
     "name": "stdout",
     "output_type": "stream",
     "text": [
      "Shape of validation arrays: (8953, 10) (8953,)\n"
     ]
    }
   ],
   "source": [
    "X_val, y_val = makeXy(df_val['scaled_GHI'], dimInput)\n",
    "print('Shape of validation arrays:', X_val.shape, y_val.shape)"
   ]
  },
  {
   "cell_type": "code",
   "execution_count": 17,
   "metadata": {},
   "outputs": [
    {
     "name": "stderr",
     "output_type": "stream",
     "text": [
      "//anaconda/lib/python3.6/site-packages/h5py/__init__.py:36: FutureWarning: Conversion of the second argument of issubdtype from `float` to `np.floating` is deprecated. In future, it will be treated as `np.float64 == np.dtype(float).type`.\n",
      "  from ._conv import register_converters as _register_converters\n",
      "Using TensorFlow backend.\n"
     ]
    }
   ],
   "source": [
    "from keras.layers import Dense, Input, Dropout\n",
    "from keras.optimizers import SGD\n",
    "from keras.models import Model\n",
    "from keras.models import load_model\n",
    "from keras.callbacks import ModelCheckpoint"
   ]
  },
  {
   "cell_type": "code",
   "execution_count": 18,
   "metadata": {},
   "outputs": [],
   "source": [
    "#Define input layer which has shape (None, 7) and of type float32. None indicates the number of instances\n",
    "input_layer = Input(shape=(dimInput,), dtype='float32')"
   ]
  },
  {
   "cell_type": "code",
   "execution_count": 19,
   "metadata": {},
   "outputs": [],
   "source": [
    "#Dense layers are defined with linear activation\n",
    "dense1 = Dense(64, activation='relu')(input_layer)\n",
    "dense2 = Dense(32, activation='relu')(dense1)\n",
    "dense3 = Dense(32, activation='relu')(dense2)\n",
    "dense4 = Dense(32, activation='relu')(dense3)"
   ]
  },
  {
   "cell_type": "code",
   "execution_count": 20,
   "metadata": {},
   "outputs": [],
   "source": [
    "dropout_layer = Dropout(0.2)(dense4)"
   ]
  },
  {
   "cell_type": "code",
   "execution_count": 21,
   "metadata": {},
   "outputs": [],
   "source": [
    "#Finally, the output layer gives prediction for the next day's air pressure.\n",
    "output_layer = Dense(1, activation='relu')(dropout_layer)"
   ]
  },
  {
   "cell_type": "code",
   "execution_count": 22,
   "metadata": {},
   "outputs": [
    {
     "name": "stdout",
     "output_type": "stream",
     "text": [
      "_________________________________________________________________\n",
      "Layer (type)                 Output Shape              Param #   \n",
      "=================================================================\n",
      "input_1 (InputLayer)         (None, 10)                0         \n",
      "_________________________________________________________________\n",
      "dense_1 (Dense)              (None, 64)                704       \n",
      "_________________________________________________________________\n",
      "dense_2 (Dense)              (None, 32)                2080      \n",
      "_________________________________________________________________\n",
      "dense_3 (Dense)              (None, 32)                1056      \n",
      "_________________________________________________________________\n",
      "dense_4 (Dense)              (None, 32)                1056      \n",
      "_________________________________________________________________\n",
      "dropout_1 (Dropout)          (None, 32)                0         \n",
      "_________________________________________________________________\n",
      "dense_5 (Dense)              (None, 1)                 33        \n",
      "=================================================================\n",
      "Total params: 4,929\n",
      "Trainable params: 4,929\n",
      "Non-trainable params: 0\n",
      "_________________________________________________________________\n"
     ]
    }
   ],
   "source": [
    "ts_model = Model(inputs=input_layer, outputs=output_layer)\n",
    "ts_model.compile(loss='mean_squared_error', optimizer='adam')\n",
    "ts_model.summary()"
   ]
  },
  {
   "cell_type": "code",
   "execution_count": 23,
   "metadata": {},
   "outputs": [
    {
     "name": "stdout",
     "output_type": "stream",
     "text": [
      "/Users/hanany/Downloads/Practical-Time-Series-Analysis-master/GHI_MLP_weights.{epoch:02d}-{val_loss:.4f}.hdf5\n"
     ]
    }
   ],
   "source": [
    "save_weights_at = os.path.join('/Users/hanany/Downloads/Practical-Time-Series-Analysis-master', 'GHI_MLP_weights.{epoch:02d}-{val_loss:.4f}.hdf5')\n",
    "print(save_weights_at)"
   ]
  },
  {
   "cell_type": "code",
   "execution_count": 24,
   "metadata": {},
   "outputs": [],
   "source": [
    "save_best = ModelCheckpoint(save_weights_at, monitor='val_loss', verbose=0,\n",
    "                            save_best_only=True, save_weights_only=False, mode='min',\n",
    "                            period=1)\n"
   ]
  },
  {
   "cell_type": "code",
   "execution_count": 28,
   "metadata": {},
   "outputs": [
    {
     "name": "stdout",
     "output_type": "stream",
     "text": [
      "Train on 18187 samples, validate on 8953 samples\n",
      "Epoch 1/200\n",
      "18187/18187 [==============================] - 0s 18us/step - loss: 0.0043 - val_loss: 0.0015\n",
      "Epoch 2/200\n",
      "18187/18187 [==============================] - 0s 17us/step - loss: 0.0042 - val_loss: 0.0017\n",
      "Epoch 3/200\n",
      "18187/18187 [==============================] - 0s 19us/step - loss: 0.0042 - val_loss: 0.0015\n",
      "Epoch 4/200\n",
      "18187/18187 [==============================] - 0s 16us/step - loss: 0.0042 - val_loss: 0.0015\n",
      "Epoch 5/200\n",
      "18187/18187 [==============================] - 0s 16us/step - loss: 0.0041 - val_loss: 0.0015\n",
      "Epoch 6/200\n",
      "18187/18187 [==============================] - 0s 15us/step - loss: 0.0041 - val_loss: 0.0015\n",
      "Epoch 7/200\n",
      "18187/18187 [==============================] - 0s 16us/step - loss: 0.0040 - val_loss: 0.0015\n",
      "Epoch 8/200\n",
      "18187/18187 [==============================] - 0s 15us/step - loss: 0.0040 - val_loss: 0.0015\n",
      "Epoch 9/200\n",
      "18187/18187 [==============================] - 0s 15us/step - loss: 0.0041 - val_loss: 0.0015\n",
      "Epoch 10/200\n",
      "18187/18187 [==============================] - 0s 16us/step - loss: 0.0041 - val_loss: 0.0015\n",
      "Epoch 11/200\n",
      "18187/18187 [==============================] - 0s 16us/step - loss: 0.0039 - val_loss: 0.0016\n",
      "Epoch 12/200\n",
      "18187/18187 [==============================] - 0s 16us/step - loss: 0.0041 - val_loss: 0.0016\n",
      "Epoch 13/200\n",
      "18187/18187 [==============================] - 0s 16us/step - loss: 0.0039 - val_loss: 0.0015\n",
      "Epoch 14/200\n",
      "18187/18187 [==============================] - 0s 16us/step - loss: 0.0039 - val_loss: 0.0016\n",
      "Epoch 15/200\n",
      "18187/18187 [==============================] - 0s 16us/step - loss: 0.0039 - val_loss: 0.0016\n",
      "Epoch 16/200\n",
      "18187/18187 [==============================] - 0s 18us/step - loss: 0.0039 - val_loss: 0.0016\n",
      "Epoch 17/200\n",
      "18187/18187 [==============================] - 0s 16us/step - loss: 0.0038 - val_loss: 0.0015\n",
      "Epoch 18/200\n",
      "18187/18187 [==============================] - 0s 16us/step - loss: 0.0039 - val_loss: 0.0016\n",
      "Epoch 19/200\n",
      "18187/18187 [==============================] - 0s 17us/step - loss: 0.0039 - val_loss: 0.0015\n",
      "Epoch 20/200\n",
      "18187/18187 [==============================] - 0s 20us/step - loss: 0.0038 - val_loss: 0.0015\n",
      "Epoch 21/200\n",
      "18187/18187 [==============================] - 0s 17us/step - loss: 0.0038 - val_loss: 0.0015\n",
      "Epoch 22/200\n",
      "18187/18187 [==============================] - 0s 20us/step - loss: 0.0039 - val_loss: 0.0015\n",
      "Epoch 23/200\n",
      "18187/18187 [==============================] - 0s 17us/step - loss: 0.0037 - val_loss: 0.0015\n",
      "Epoch 24/200\n",
      "18187/18187 [==============================] - 0s 16us/step - loss: 0.0037 - val_loss: 0.0015\n",
      "Epoch 25/200\n",
      "18187/18187 [==============================] - 0s 17us/step - loss: 0.0037 - val_loss: 0.0016\n",
      "Epoch 26/200\n",
      "18187/18187 [==============================] - 0s 18us/step - loss: 0.0037 - val_loss: 0.0015\n",
      "Epoch 27/200\n",
      "18187/18187 [==============================] - 0s 26us/step - loss: 0.0037 - val_loss: 0.0017\n",
      "Epoch 28/200\n",
      "18187/18187 [==============================] - 0s 24us/step - loss: 0.0037 - val_loss: 0.0016\n",
      "Epoch 29/200\n",
      "18187/18187 [==============================] - 1s 35us/step - loss: 0.0037 - val_loss: 0.0015\n",
      "Epoch 30/200\n",
      "18187/18187 [==============================] - 1s 31us/step - loss: 0.0037 - val_loss: 0.0015\n",
      "Epoch 31/200\n",
      "18187/18187 [==============================] - 1s 28us/step - loss: 0.0037 - val_loss: 0.0015\n",
      "Epoch 32/200\n",
      "18187/18187 [==============================] - 1s 30us/step - loss: 0.0036 - val_loss: 0.0015\n",
      "Epoch 33/200\n",
      "18187/18187 [==============================] - 1s 30us/step - loss: 0.0037 - val_loss: 0.0017\n",
      "Epoch 34/200\n",
      "18187/18187 [==============================] - 0s 26us/step - loss: 0.0037 - val_loss: 0.0016\n",
      "Epoch 35/200\n",
      "18187/18187 [==============================] - 0s 24us/step - loss: 0.0036 - val_loss: 0.0015\n",
      "Epoch 36/200\n",
      "18187/18187 [==============================] - 0s 23us/step - loss: 0.0036 - val_loss: 0.0016\n",
      "Epoch 37/200\n",
      "18187/18187 [==============================] - 0s 21us/step - loss: 0.0036 - val_loss: 0.0015\n",
      "Epoch 38/200\n",
      "18187/18187 [==============================] - 0s 18us/step - loss: 0.0036 - val_loss: 0.0016\n",
      "Epoch 39/200\n",
      "18187/18187 [==============================] - 0s 19us/step - loss: 0.0036 - val_loss: 0.0016\n",
      "Epoch 40/200\n",
      "18187/18187 [==============================] - 0s 19us/step - loss: 0.0036 - val_loss: 0.0015\n",
      "Epoch 41/200\n",
      "18187/18187 [==============================] - 0s 19us/step - loss: 0.0036 - val_loss: 0.0016\n",
      "Epoch 42/200\n",
      "18187/18187 [==============================] - 0s 19us/step - loss: 0.0037 - val_loss: 0.0017\n",
      "Epoch 43/200\n",
      "18187/18187 [==============================] - 0s 21us/step - loss: 0.0036 - val_loss: 0.0016\n",
      "Epoch 44/200\n",
      "18187/18187 [==============================] - 0s 23us/step - loss: 0.0037 - val_loss: 0.0016\n",
      "Epoch 45/200\n",
      "18187/18187 [==============================] - 1s 37us/step - loss: 0.0036 - val_loss: 0.0016\n",
      "Epoch 46/200\n",
      "18187/18187 [==============================] - 0s 18us/step - loss: 0.0036 - val_loss: 0.0018\n",
      "Epoch 47/200\n",
      "18187/18187 [==============================] - 0s 25us/step - loss: 0.0036 - val_loss: 0.0015\n",
      "Epoch 48/200\n",
      "18187/18187 [==============================] - 0s 16us/step - loss: 0.0036 - val_loss: 0.0016\n",
      "Epoch 49/200\n",
      "18187/18187 [==============================] - 0s 18us/step - loss: 0.0035 - val_loss: 0.0016\n",
      "Epoch 50/200\n",
      "18187/18187 [==============================] - 0s 19us/step - loss: 0.0035 - val_loss: 0.0016\n",
      "Epoch 51/200\n",
      "18187/18187 [==============================] - 0s 17us/step - loss: 0.0036 - val_loss: 0.0016\n",
      "Epoch 52/200\n",
      "18187/18187 [==============================] - 0s 21us/step - loss: 0.0035 - val_loss: 0.0016\n",
      "Epoch 53/200\n",
      "18187/18187 [==============================] - 0s 18us/step - loss: 0.0036 - val_loss: 0.0016\n",
      "Epoch 54/200\n",
      "18187/18187 [==============================] - 0s 16us/step - loss: 0.0036 - val_loss: 0.0016\n",
      "Epoch 55/200\n",
      "18187/18187 [==============================] - 0s 21us/step - loss: 0.0035 - val_loss: 0.0016\n",
      "Epoch 56/200\n",
      "18187/18187 [==============================] - 0s 17us/step - loss: 0.0035 - val_loss: 0.0015\n",
      "Epoch 57/200\n",
      "18187/18187 [==============================] - 1s 41us/step - loss: 0.0035 - val_loss: 0.0018\n",
      "Epoch 58/200\n",
      "18187/18187 [==============================] - 0s 19us/step - loss: 0.0036 - val_loss: 0.0016\n",
      "Epoch 59/200\n",
      "18187/18187 [==============================] - 1s 37us/step - loss: 0.0035 - val_loss: 0.0016\n",
      "Epoch 60/200\n",
      "18187/18187 [==============================] - 0s 26us/step - loss: 0.0037 - val_loss: 0.0016\n",
      "Epoch 61/200\n",
      "18187/18187 [==============================] - 1s 34us/step - loss: 0.0036 - val_loss: 0.0016\n",
      "Epoch 62/200\n",
      "18187/18187 [==============================] - 1s 42us/step - loss: 0.0035 - val_loss: 0.0018\n",
      "Epoch 63/200\n",
      "18187/18187 [==============================] - 0s 22us/step - loss: 0.0036 - val_loss: 0.0016\n",
      "Epoch 64/200\n",
      "18187/18187 [==============================] - 1s 36us/step - loss: 0.0035 - val_loss: 0.0016\n",
      "Epoch 65/200\n",
      "18187/18187 [==============================] - 1s 35us/step - loss: 0.0035 - val_loss: 0.0016\n",
      "Epoch 66/200\n",
      "18187/18187 [==============================] - 1s 31us/step - loss: 0.0036 - val_loss: 0.0016\n",
      "Epoch 67/200\n",
      "18187/18187 [==============================] - 1s 37us/step - loss: 0.0035 - val_loss: 0.0016\n",
      "Epoch 68/200\n",
      "18187/18187 [==============================] - 1s 33us/step - loss: 0.0035 - val_loss: 0.0016\n",
      "Epoch 69/200\n",
      "18187/18187 [==============================] - 1s 35us/step - loss: 0.0035 - val_loss: 0.0016\n",
      "Epoch 70/200\n",
      "18187/18187 [==============================] - 0s 22us/step - loss: 0.0036 - val_loss: 0.0016\n",
      "Epoch 71/200\n",
      "18187/18187 [==============================] - 0s 25us/step - loss: 0.0034 - val_loss: 0.0016\n",
      "Epoch 72/200\n",
      "18187/18187 [==============================] - 1s 39us/step - loss: 0.0035 - val_loss: 0.0016\n",
      "Epoch 73/200\n",
      "18187/18187 [==============================] - 1s 35us/step - loss: 0.0036 - val_loss: 0.0017\n",
      "Epoch 74/200\n",
      "18187/18187 [==============================] - 1s 33us/step - loss: 0.0035 - val_loss: 0.0016\n",
      "Epoch 75/200\n",
      "18187/18187 [==============================] - 0s 23us/step - loss: 0.0035 - val_loss: 0.0017\n",
      "Epoch 76/200\n",
      "18187/18187 [==============================] - 0s 24us/step - loss: 0.0035 - val_loss: 0.0016\n",
      "Epoch 77/200\n"
     ]
    },
    {
     "name": "stdout",
     "output_type": "stream",
     "text": [
      "18187/18187 [==============================] - 0s 23us/step - loss: 0.0035 - val_loss: 0.0015\n",
      "Epoch 78/200\n",
      "18187/18187 [==============================] - 0s 21us/step - loss: 0.0035 - val_loss: 0.0016\n",
      "Epoch 79/200\n",
      "18187/18187 [==============================] - 0s 20us/step - loss: 0.0035 - val_loss: 0.0016\n",
      "Epoch 80/200\n",
      "18187/18187 [==============================] - 0s 21us/step - loss: 0.0035 - val_loss: 0.0016\n",
      "Epoch 81/200\n",
      "18187/18187 [==============================] - 0s 20us/step - loss: 0.0035 - val_loss: 0.0016\n",
      "Epoch 82/200\n",
      "18187/18187 [==============================] - 0s 20us/step - loss: 0.0035 - val_loss: 0.0016\n",
      "Epoch 83/200\n",
      "18187/18187 [==============================] - 0s 22us/step - loss: 0.0035 - val_loss: 0.0016\n",
      "Epoch 84/200\n",
      "18187/18187 [==============================] - 0s 20us/step - loss: 0.0035 - val_loss: 0.0016\n",
      "Epoch 85/200\n",
      "18187/18187 [==============================] - 0s 23us/step - loss: 0.0036 - val_loss: 0.0016\n",
      "Epoch 86/200\n",
      "18187/18187 [==============================] - 0s 23us/step - loss: 0.0035 - val_loss: 0.0016\n",
      "Epoch 87/200\n",
      "18187/18187 [==============================] - 0s 20us/step - loss: 0.0035 - val_loss: 0.0016\n",
      "Epoch 88/200\n",
      "18187/18187 [==============================] - 0s 24us/step - loss: 0.0034 - val_loss: 0.0017\n",
      "Epoch 89/200\n",
      "18187/18187 [==============================] - 0s 21us/step - loss: 0.0035 - val_loss: 0.0016\n",
      "Epoch 90/200\n",
      "18187/18187 [==============================] - 0s 19us/step - loss: 0.0035 - val_loss: 0.0016\n",
      "Epoch 91/200\n",
      "18187/18187 [==============================] - 0s 23us/step - loss: 0.0034 - val_loss: 0.0016\n",
      "Epoch 92/200\n",
      "18187/18187 [==============================] - 0s 24us/step - loss: 0.0034 - val_loss: 0.0016\n",
      "Epoch 93/200\n",
      "18187/18187 [==============================] - 0s 22us/step - loss: 0.0034 - val_loss: 0.0016\n",
      "Epoch 94/200\n",
      "18187/18187 [==============================] - 0s 22us/step - loss: 0.0035 - val_loss: 0.0016\n",
      "Epoch 95/200\n",
      "18187/18187 [==============================] - 0s 22us/step - loss: 0.0034 - val_loss: 0.0016\n",
      "Epoch 96/200\n",
      "18187/18187 [==============================] - 1s 28us/step - loss: 0.0034 - val_loss: 0.0016\n",
      "Epoch 97/200\n",
      "18187/18187 [==============================] - 1s 28us/step - loss: 0.0034 - val_loss: 0.0016\n",
      "Epoch 98/200\n",
      "18187/18187 [==============================] - 1s 49us/step - loss: 0.0035 - val_loss: 0.0016\n",
      "Epoch 99/200\n",
      "18187/18187 [==============================] - 1s 55us/step - loss: 0.0035 - val_loss: 0.0017\n",
      "Epoch 100/200\n",
      "18187/18187 [==============================] - 1s 62us/step - loss: 0.0035 - val_loss: 0.0016\n",
      "Epoch 101/200\n",
      "18187/18187 [==============================] - 1s 71us/step - loss: 0.0034 - val_loss: 0.0016\n",
      "Epoch 102/200\n",
      "18187/18187 [==============================] - 1s 54us/step - loss: 0.0034 - val_loss: 0.0016\n",
      "Epoch 103/200\n",
      "18187/18187 [==============================] - 1s 59us/step - loss: 0.0034 - val_loss: 0.0016\n",
      "Epoch 104/200\n",
      "18187/18187 [==============================] - 1s 53us/step - loss: 0.0034 - val_loss: 0.0015\n",
      "Epoch 105/200\n",
      "18187/18187 [==============================] - 1s 68us/step - loss: 0.0035 - val_loss: 0.0016\n",
      "Epoch 106/200\n",
      "18187/18187 [==============================] - 1s 54us/step - loss: 0.0034 - val_loss: 0.0016\n",
      "Epoch 107/200\n",
      "18187/18187 [==============================] - 1s 64us/step - loss: 0.0034 - val_loss: 0.0016\n",
      "Epoch 108/200\n",
      "18187/18187 [==============================] - 1s 66us/step - loss: 0.0034 - val_loss: 0.0016\n",
      "Epoch 109/200\n",
      "18187/18187 [==============================] - 1s 61us/step - loss: 0.0034 - val_loss: 0.0016\n",
      "Epoch 110/200\n",
      "18187/18187 [==============================] - 1s 48us/step - loss: 0.0034 - val_loss: 0.0016\n",
      "Epoch 111/200\n",
      "18187/18187 [==============================] - 1s 41us/step - loss: 0.0034 - val_loss: 0.0016\n",
      "Epoch 112/200\n",
      "18187/18187 [==============================] - 1s 54us/step - loss: 0.0034 - val_loss: 0.0016\n",
      "Epoch 113/200\n",
      "18187/18187 [==============================] - 1s 41us/step - loss: 0.0034 - val_loss: 0.0016\n",
      "Epoch 114/200\n",
      "18187/18187 [==============================] - 1s 51us/step - loss: 0.0035 - val_loss: 0.0016\n",
      "Epoch 115/200\n",
      "18187/18187 [==============================] - 1s 46us/step - loss: 0.0034 - val_loss: 0.0016\n",
      "Epoch 116/200\n",
      "18187/18187 [==============================] - 1s 78us/step - loss: 0.0034 - val_loss: 0.0015\n",
      "Epoch 117/200\n",
      "18187/18187 [==============================] - 1s 70us/step - loss: 0.0034 - val_loss: 0.0016\n",
      "Epoch 118/200\n",
      "18187/18187 [==============================] - 1s 71us/step - loss: 0.0034 - val_loss: 0.0017\n",
      "Epoch 119/200\n",
      "18187/18187 [==============================] - 1s 69us/step - loss: 0.0034 - val_loss: 0.0016\n",
      "Epoch 120/200\n",
      "18187/18187 [==============================] - 1s 63us/step - loss: 0.0034 - val_loss: 0.0016\n",
      "Epoch 121/200\n",
      "18187/18187 [==============================] - 1s 75us/step - loss: 0.0034 - val_loss: 0.0016\n",
      "Epoch 122/200\n",
      "18187/18187 [==============================] - 1s 52us/step - loss: 0.0034 - val_loss: 0.0016\n",
      "Epoch 123/200\n",
      "18187/18187 [==============================] - 1s 49us/step - loss: 0.0034 - val_loss: 0.0017\n",
      "Epoch 124/200\n",
      "18187/18187 [==============================] - 1s 50us/step - loss: 0.0034 - val_loss: 0.0016\n",
      "Epoch 125/200\n",
      "18187/18187 [==============================] - 1s 43us/step - loss: 0.0034 - val_loss: 0.0016\n",
      "Epoch 126/200\n",
      "18187/18187 [==============================] - 1s 46us/step - loss: 0.0034 - val_loss: 0.0016\n",
      "Epoch 127/200\n",
      "18187/18187 [==============================] - 1s 41us/step - loss: 0.0033 - val_loss: 0.0016\n",
      "Epoch 128/200\n",
      "18187/18187 [==============================] - 1s 43us/step - loss: 0.0034 - val_loss: 0.0016\n",
      "Epoch 129/200\n",
      "18187/18187 [==============================] - 1s 51us/step - loss: 0.0033 - val_loss: 0.0016\n",
      "Epoch 130/200\n",
      "18187/18187 [==============================] - 1s 38us/step - loss: 0.0034 - val_loss: 0.0017\n",
      "Epoch 131/200\n",
      "18187/18187 [==============================] - 1s 53us/step - loss: 0.0034 - val_loss: 0.0016\n",
      "Epoch 132/200\n",
      "18187/18187 [==============================] - 1s 72us/step - loss: 0.0034 - val_loss: 0.0016\n",
      "Epoch 133/200\n",
      "18187/18187 [==============================] - 1s 44us/step - loss: 0.0034 - val_loss: 0.0017\n",
      "Epoch 134/200\n",
      "18187/18187 [==============================] - 1s 55us/step - loss: 0.0034 - val_loss: 0.0016\n",
      "Epoch 135/200\n",
      "18187/18187 [==============================] - 1s 50us/step - loss: 0.0034 - val_loss: 0.0016\n",
      "Epoch 136/200\n",
      "18187/18187 [==============================] - 1s 42us/step - loss: 0.0034 - val_loss: 0.0016\n",
      "Epoch 137/200\n",
      "18187/18187 [==============================] - 1s 35us/step - loss: 0.0033 - val_loss: 0.0016\n",
      "Epoch 138/200\n",
      "18187/18187 [==============================] - 1s 38us/step - loss: 0.0033 - val_loss: 0.0016\n",
      "Epoch 139/200\n",
      "18187/18187 [==============================] - 1s 41us/step - loss: 0.0033 - val_loss: 0.0016\n",
      "Epoch 140/200\n",
      "18187/18187 [==============================] - 1s 54us/step - loss: 0.0033 - val_loss: 0.0016\n",
      "Epoch 141/200\n",
      "18187/18187 [==============================] - 1s 47us/step - loss: 0.0034 - val_loss: 0.0017\n",
      "Epoch 142/200\n",
      "18187/18187 [==============================] - 1s 64us/step - loss: 0.0033 - val_loss: 0.0016\n",
      "Epoch 143/200\n",
      "18187/18187 [==============================] - 1s 59us/step - loss: 0.0033 - val_loss: 0.0016\n",
      "Epoch 144/200\n",
      "18187/18187 [==============================] - 1s 64us/step - loss: 0.0034 - val_loss: 0.0015\n",
      "Epoch 145/200\n",
      "18187/18187 [==============================] - 1s 45us/step - loss: 0.0033 - val_loss: 0.0016\n",
      "Epoch 146/200\n",
      "18187/18187 [==============================] - 1s 64us/step - loss: 0.0033 - val_loss: 0.0017\n",
      "Epoch 147/200\n",
      "18187/18187 [==============================] - 1s 50us/step - loss: 0.0033 - val_loss: 0.0016\n",
      "Epoch 148/200\n",
      "18187/18187 [==============================] - 1s 47us/step - loss: 0.0033 - val_loss: 0.0016\n",
      "Epoch 149/200\n",
      "18187/18187 [==============================] - 1s 39us/step - loss: 0.0034 - val_loss: 0.0016\n",
      "Epoch 150/200\n",
      "18187/18187 [==============================] - 1s 43us/step - loss: 0.0034 - val_loss: 0.0016\n",
      "Epoch 151/200\n",
      "18187/18187 [==============================] - 1s 41us/step - loss: 0.0034 - val_loss: 0.0016\n",
      "Epoch 152/200\n",
      "18187/18187 [==============================] - 1s 41us/step - loss: 0.0033 - val_loss: 0.0016\n",
      "Epoch 153/200\n"
     ]
    },
    {
     "name": "stdout",
     "output_type": "stream",
     "text": [
      "18187/18187 [==============================] - 1s 37us/step - loss: 0.0033 - val_loss: 0.0016\n",
      "Epoch 154/200\n",
      "18187/18187 [==============================] - 0s 27us/step - loss: 0.0033 - val_loss: 0.0016\n",
      "Epoch 155/200\n",
      "18187/18187 [==============================] - 0s 27us/step - loss: 0.0033 - val_loss: 0.0016\n",
      "Epoch 156/200\n",
      "18187/18187 [==============================] - 0s 26us/step - loss: 0.0033 - val_loss: 0.0016\n",
      "Epoch 157/200\n",
      "18187/18187 [==============================] - 1s 28us/step - loss: 0.0033 - val_loss: 0.0016\n",
      "Epoch 158/200\n",
      "18187/18187 [==============================] - 0s 27us/step - loss: 0.0033 - val_loss: 0.0016\n",
      "Epoch 159/200\n",
      "18187/18187 [==============================] - 0s 27us/step - loss: 0.0033 - val_loss: 0.0016\n",
      "Epoch 160/200\n",
      "18187/18187 [==============================] - 0s 23us/step - loss: 0.0033 - val_loss: 0.0016\n",
      "Epoch 161/200\n",
      "18187/18187 [==============================] - 0s 21us/step - loss: 0.0033 - val_loss: 0.0016\n",
      "Epoch 162/200\n",
      "18187/18187 [==============================] - 0s 27us/step - loss: 0.0033 - val_loss: 0.0016\n",
      "Epoch 163/200\n",
      "18187/18187 [==============================] - 1s 29us/step - loss: 0.0033 - val_loss: 0.0017\n",
      "Epoch 164/200\n",
      "18187/18187 [==============================] - 0s 27us/step - loss: 0.0033 - val_loss: 0.0016\n",
      "Epoch 165/200\n",
      "18187/18187 [==============================] - 0s 21us/step - loss: 0.0033 - val_loss: 0.0016\n",
      "Epoch 166/200\n",
      "18187/18187 [==============================] - 0s 22us/step - loss: 0.0033 - val_loss: 0.0016\n",
      "Epoch 167/200\n",
      "18187/18187 [==============================] - 1s 33us/step - loss: 0.0033 - val_loss: 0.0016\n",
      "Epoch 168/200\n",
      "18187/18187 [==============================] - 0s 22us/step - loss: 0.0033 - val_loss: 0.0016\n",
      "Epoch 169/200\n",
      "18187/18187 [==============================] - 0s 27us/step - loss: 0.0033 - val_loss: 0.0016\n",
      "Epoch 170/200\n",
      "18187/18187 [==============================] - 0s 23us/step - loss: 0.0033 - val_loss: 0.0017\n",
      "Epoch 171/200\n",
      "18187/18187 [==============================] - 1s 34us/step - loss: 0.0033 - val_loss: 0.0016\n",
      "Epoch 172/200\n",
      "18187/18187 [==============================] - 0s 21us/step - loss: 0.0033 - val_loss: 0.0016\n",
      "Epoch 173/200\n",
      "18187/18187 [==============================] - 1s 37us/step - loss: 0.0033 - val_loss: 0.0016\n",
      "Epoch 174/200\n",
      "18187/18187 [==============================] - 1s 39us/step - loss: 0.0032 - val_loss: 0.0016\n",
      "Epoch 175/200\n",
      "18187/18187 [==============================] - 1s 46us/step - loss: 0.0033 - val_loss: 0.0015\n",
      "Epoch 176/200\n",
      "18187/18187 [==============================] - 1s 73us/step - loss: 0.0033 - val_loss: 0.0016\n",
      "Epoch 177/200\n",
      "18187/18187 [==============================] - 1s 46us/step - loss: 0.0033 - val_loss: 0.0016\n",
      "Epoch 178/200\n",
      "18187/18187 [==============================] - 1s 44us/step - loss: 0.0032 - val_loss: 0.0016\n",
      "Epoch 179/200\n",
      "18187/18187 [==============================] - 1s 57us/step - loss: 0.0032 - val_loss: 0.0016\n",
      "Epoch 180/200\n",
      "18187/18187 [==============================] - 1s 45us/step - loss: 0.0032 - val_loss: 0.0016\n",
      "Epoch 181/200\n",
      "18187/18187 [==============================] - 1s 38us/step - loss: 0.0032 - val_loss: 0.0016\n",
      "Epoch 182/200\n",
      "18187/18187 [==============================] - 1s 34us/step - loss: 0.0032 - val_loss: 0.0016\n",
      "Epoch 183/200\n",
      "18187/18187 [==============================] - 1s 39us/step - loss: 0.0032 - val_loss: 0.0016\n",
      "Epoch 184/200\n",
      "18187/18187 [==============================] - 1s 34us/step - loss: 0.0033 - val_loss: 0.0016\n",
      "Epoch 185/200\n",
      "18187/18187 [==============================] - 1s 38us/step - loss: 0.0033 - val_loss: 0.0016\n",
      "Epoch 186/200\n",
      "18187/18187 [==============================] - 1s 29us/step - loss: 0.0033 - val_loss: 0.0016\n",
      "Epoch 187/200\n",
      "18187/18187 [==============================] - 1s 58us/step - loss: 0.0033 - val_loss: 0.0017\n",
      "Epoch 188/200\n",
      "18187/18187 [==============================] - 1s 55us/step - loss: 0.0032 - val_loss: 0.0016\n",
      "Epoch 189/200\n",
      "18187/18187 [==============================] - 1s 50us/step - loss: 0.0033 - val_loss: 0.0016\n",
      "Epoch 190/200\n",
      "18187/18187 [==============================] - 1s 42us/step - loss: 0.0032 - val_loss: 0.0016\n",
      "Epoch 191/200\n",
      "18187/18187 [==============================] - 1s 44us/step - loss: 0.0032 - val_loss: 0.0016\n",
      "Epoch 192/200\n",
      "18187/18187 [==============================] - 1s 57us/step - loss: 0.0032 - val_loss: 0.0016\n",
      "Epoch 193/200\n",
      "18187/18187 [==============================] - 1s 32us/step - loss: 0.0033 - val_loss: 0.0017\n",
      "Epoch 194/200\n",
      "18187/18187 [==============================] - 0s 27us/step - loss: 0.0032 - val_loss: 0.0016\n",
      "Epoch 195/200\n",
      "18187/18187 [==============================] - 0s 27us/step - loss: 0.0033 - val_loss: 0.0016\n",
      "Epoch 196/200\n",
      "18187/18187 [==============================] - 0s 27us/step - loss: 0.0032 - val_loss: 0.0016\n",
      "Epoch 197/200\n",
      "18187/18187 [==============================] - 0s 27us/step - loss: 0.0033 - val_loss: 0.0016\n",
      "Epoch 198/200\n",
      "18187/18187 [==============================] - 1s 28us/step - loss: 0.0032 - val_loss: 0.0016\n",
      "Epoch 199/200\n",
      "18187/18187 [==============================] - 0s 27us/step - loss: 0.0033 - val_loss: 0.0016\n",
      "Epoch 200/200\n",
      "18187/18187 [==============================] - 0s 27us/step - loss: 0.0032 - val_loss: 0.0016\n"
     ]
    },
    {
     "data": {
      "text/plain": [
       "<keras.callbacks.History at 0x127207c50>"
      ]
     },
     "execution_count": 28,
     "metadata": {},
     "output_type": "execute_result"
    }
   ],
   "source": [
    "ts_model.fit(x=X_train, y=y_train, batch_size=500, epochs=200,\n",
    "             verbose=1, callbacks=[save_best], validation_data=(X_val, y_val),\n",
    "             shuffle=True)"
   ]
  },
  {
   "cell_type": "code",
   "execution_count": 29,
   "metadata": {},
   "outputs": [],
   "source": [
    "best_model = load_model(os.path.join('/Users/hanany/Downloads/Practical-Time-Series-Analysis-master',\n",
    "                                     'GHI_MLP_weights.20-0.0015.hdf5'))\n",
    "preds = best_model.predict(X_val)\n",
    "pred_PRES = scaler.inverse_transform(preds)\n",
    "pred_PRES = np.squeeze(pred_PRES)"
   ]
  },
  {
   "cell_type": "code",
   "execution_count": null,
   "metadata": {},
   "outputs": [],
   "source": []
  },
  {
   "cell_type": "code",
   "execution_count": 27,
   "metadata": {},
   "outputs": [
    {
     "data": {
      "text/plain": [
       "Text(0,0.5,'GHI')"
      ]
     },
     "execution_count": 27,
     "metadata": {},
     "output_type": "execute_result"
    },
    {
     "data": {
      "image/png": "[encoded data removed]",
      "text/plain": [
       "<Figure size 396x396 with 1 Axes>"
      ]
     },
     "metadata": {
      "needs_background": "light"
     },
     "output_type": "display_data"
    }
   ],
   "source": [
    "#Let's plot the first 50 actual and predicted values of air pressure.\n",
    "tailPlot=150\n",
    "plt.figure(figsize=(5.5, 5.5))\n",
    "plt.plot(range(tailPlot), df_val['GHI'].loc[dimInput:tailPlot+dimInput-1], linestyle='-', marker='*', color='b')\n",
    "plt.plot(range(tailPlot), pred_PRES[:tailPlot], linestyle='-', marker='.', color='r')\n",
    "plt.legend(['Actual','Predicted'], loc=2)\n",
    "plt.title('Actual vs Predicted Air Pressure')\n",
    "plt.ylabel('GHI')"
   ]
  },
  {
   "cell_type": "code",
   "execution_count": 672,
   "metadata": {},
   "outputs": [
    {
     "name": "stdout",
     "output_type": "stream",
     "text": [
      "R-squared for the validation set: 0.9572\n",
      "Test Score: 0.18 nRMSE\n",
      "Test Score: 47.55 RMSE\n"
     ]
    }
   ],
   "source": [
    "from sklearn.metrics import r2_score,mean_squared_error\n",
    "r2 = r2_score(df_val['GHI'].loc[dimInput:], pred_PRES)\n",
    "print('R-squared for the validation set:', round(r2,4))\n",
    "\n",
    "# calculate root mean squared error\n",
    "testScore = np.sqrt(mean_squared_error(df_val['GHI'].loc[dimInput:], pred_PRES))/np.mean(df_val['GHI'].loc[dimInput:])\n",
    "print('Test Score: %.2f nRMSE' % (testScore))\n",
    "\n",
    "\n",
    "#trainScore = np.sqrt(mean_squared_error(df_train['GHI'].loc[:dimInput], pred_PRES))/np.mean(df_val['GHI'].loc[dimInput:])\n",
    "print('Test Score: %.2f RMSE' % (np.sqrt(mean_squared_error(df_val['GHI'].loc[dimInput:], pred_PRES))))\n",
    "#testScore = np.sqrt(mean_squared_error(testYI[0], testPredictI[:,0]))\n",
    "#print('Test Score: %.2f RMSE' % (testScore))\n",
    "#print(len(df_val['GHI'].loc[dimInput:]),len(pred_PRES))\n"
   ]
  },
  {
   "cell_type": "code",
   "execution_count": 464,
   "metadata": {},
   "outputs": [],
   "source": [
    "#import plotly\n",
    "#import plotly.graph_objs as go\n",
    "\n",
    "#from plotly.offline import download_plotlyjs, init_notebook_mode, plot, iplot\n",
    "#init_notebook_mode(connected=True)\n",
    "#iplot([{\"x\": time, \"y\": df_val['GHI'].loc[dimInput:]},{\"x\": time, \"y\": pred_PRES}])\n",
    "#iplot([{\"x\": time, \"y\": ssn}])"
   ]
  },
  {
   "cell_type": "code",
   "execution_count": null,
   "metadata": {},
   "outputs": [],
   "source": []
  },
  {
   "cell_type": "code",
   "execution_count": null,
   "metadata": {},
   "outputs": [],
   "source": []
  }
 ],
 "metadata": {
  "kernelspec": {
   "display_name": "Python 3",
   "language": "python",
   "name": "python3"
  },
  "language_info": {
   "codemirror_mode": {
    "name": "ipython",
    "version": 3
   },
   "file_extension": ".py",
   "mimetype": "text/x-python",
   "name": "python",
   "nbconvert_exporter": "python",
   "pygments_lexer": "ipython3",
   "version": "3.6.0"
  }
 },
 "nbformat": 4,
 "nbformat_minor": 2
}
